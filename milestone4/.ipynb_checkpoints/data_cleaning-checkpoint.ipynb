{
 "cells": [
  {
   "cell_type": "code",
   "execution_count": 3,
   "metadata": {
    "collapsed": true
   },
   "outputs": [],
   "source": [
    "import pandas as pd\n",
    "import matplotlib.pyplot as plt\n",
    "import numpy as np\n",
    "import math\n",
    "import glob as gb\n",
    "\n",
    "%matplotlib inline"
   ]
  },
  {
   "cell_type": "markdown",
   "metadata": {},
   "source": [
    "# 1: Import training order_data"
   ]
  },
  {
   "cell_type": "code",
   "execution_count": 4,
   "metadata": {
    "collapsed": true
   },
   "outputs": [],
   "source": [
    "list_of_files = gb.glob('data/training_data/order_data/*.txt')"
   ]
  },
  {
   "cell_type": "code",
   "execution_count": 5,
   "metadata": {
    "collapsed": true
   },
   "outputs": [],
   "source": [
    "order_info = []\n",
    "for f in list_of_files:\n",
    "    order_info_single_day = pd.read_csv(f, delimiter = '\\t', header = None)\n",
    "    order_info.append(order_info_single_day)"
   ]
  },
  {
   "cell_type": "code",
   "execution_count": 6,
   "metadata": {
    "collapsed": true
   },
   "outputs": [],
   "source": [
    "order_info = pd.concat(order_info)\n",
    "order_info[6] = pd.to_datetime(order_info[6])"
   ]
  },
  {
   "cell_type": "code",
   "execution_count": 7,
   "metadata": {},
   "outputs": [
    {
     "data": {
      "text/html": [
       "<div>\n",
       "<table border=\"1\" class=\"dataframe\">\n",
       "  <thead>\n",
       "    <tr style=\"text-align: right;\">\n",
       "      <th></th>\n",
       "      <th>order_id</th>\n",
       "      <th>driver_id</th>\n",
       "      <th>passenger_id</th>\n",
       "      <th>start_district_hash</th>\n",
       "      <th>dest_district_hash</th>\n",
       "      <th>price</th>\n",
       "      <th>time_stamp</th>\n",
       "    </tr>\n",
       "  </thead>\n",
       "  <tbody>\n",
       "    <tr>\n",
       "      <th>0</th>\n",
       "      <td>97ebd0c6680f7c0535dbfdead6e51b4b</td>\n",
       "      <td>dd65fa250fca2833a3a8c16d2cf0457c</td>\n",
       "      <td>ed180d7daf639d936f1aeae4f7fb482f</td>\n",
       "      <td>4725c39a5e5f4c188d382da3910b3f3f</td>\n",
       "      <td>3e12208dd0be281c92a6ab57d9a6fb32</td>\n",
       "      <td>24.0</td>\n",
       "      <td>2016-01-01 13:37:23</td>\n",
       "    </tr>\n",
       "    <tr>\n",
       "      <th>1</th>\n",
       "      <td>92c3ac9251cc9b5aab90b114a1e363be</td>\n",
       "      <td>c077e0297639edcb1df6189e8cda2c3d</td>\n",
       "      <td>191a180f0a262aff3267775c4fac8972</td>\n",
       "      <td>82cc4851f9e4faa4e54309f8bb73fd7c</td>\n",
       "      <td>b05379ac3f9b7d99370d443cfd5dcc28</td>\n",
       "      <td>2.0</td>\n",
       "      <td>2016-01-01 09:47:54</td>\n",
       "    </tr>\n",
       "    <tr>\n",
       "      <th>2</th>\n",
       "      <td>abeefc3e2aec952468e2fd42a1649640</td>\n",
       "      <td>86dbc1b68de435957c61b5a523854b69</td>\n",
       "      <td>7029e813bb3de8cc73a8615e2785070c</td>\n",
       "      <td>fff4e8465d1e12621bc361276b6217cf</td>\n",
       "      <td>fff4e8465d1e12621bc361276b6217cf</td>\n",
       "      <td>9.0</td>\n",
       "      <td>2016-01-01 18:24:02</td>\n",
       "    </tr>\n",
       "    <tr>\n",
       "      <th>3</th>\n",
       "      <td>cb31d0be64cda3cc66b46617bf49a05c</td>\n",
       "      <td>4fadfa6eeaa694742de036dddf02b0c4</td>\n",
       "      <td>21dc133ac68e4c07803d1c2f48988a83</td>\n",
       "      <td>4b7f6f4e2bf237b6cc58f57142bea5c0</td>\n",
       "      <td>4b7f6f4e2bf237b6cc58f57142bea5c0</td>\n",
       "      <td>11.0</td>\n",
       "      <td>2016-01-01 22:13:27</td>\n",
       "    </tr>\n",
       "    <tr>\n",
       "      <th>4</th>\n",
       "      <td>139d492189ae5a933122c098f63252b3</td>\n",
       "      <td>NaN</td>\n",
       "      <td>26963cc76da2d8450d8f23fc357db987</td>\n",
       "      <td>fc34648599753c9e74ab238e9a4a07ad</td>\n",
       "      <td>87285a66236346350541b8815c5fae94</td>\n",
       "      <td>4.0</td>\n",
       "      <td>2016-01-01 17:00:06</td>\n",
       "    </tr>\n",
       "  </tbody>\n",
       "</table>\n",
       "</div>"
      ],
      "text/plain": [
       "                           order_id                         driver_id  \\\n",
       "0  97ebd0c6680f7c0535dbfdead6e51b4b  dd65fa250fca2833a3a8c16d2cf0457c   \n",
       "1  92c3ac9251cc9b5aab90b114a1e363be  c077e0297639edcb1df6189e8cda2c3d   \n",
       "2  abeefc3e2aec952468e2fd42a1649640  86dbc1b68de435957c61b5a523854b69   \n",
       "3  cb31d0be64cda3cc66b46617bf49a05c  4fadfa6eeaa694742de036dddf02b0c4   \n",
       "4  139d492189ae5a933122c098f63252b3                               NaN   \n",
       "\n",
       "                       passenger_id               start_district_hash  \\\n",
       "0  ed180d7daf639d936f1aeae4f7fb482f  4725c39a5e5f4c188d382da3910b3f3f   \n",
       "1  191a180f0a262aff3267775c4fac8972  82cc4851f9e4faa4e54309f8bb73fd7c   \n",
       "2  7029e813bb3de8cc73a8615e2785070c  fff4e8465d1e12621bc361276b6217cf   \n",
       "3  21dc133ac68e4c07803d1c2f48988a83  4b7f6f4e2bf237b6cc58f57142bea5c0   \n",
       "4  26963cc76da2d8450d8f23fc357db987  fc34648599753c9e74ab238e9a4a07ad   \n",
       "\n",
       "                 dest_district_hash  price          time_stamp  \n",
       "0  3e12208dd0be281c92a6ab57d9a6fb32   24.0 2016-01-01 13:37:23  \n",
       "1  b05379ac3f9b7d99370d443cfd5dcc28    2.0 2016-01-01 09:47:54  \n",
       "2  fff4e8465d1e12621bc361276b6217cf    9.0 2016-01-01 18:24:02  \n",
       "3  4b7f6f4e2bf237b6cc58f57142bea5c0   11.0 2016-01-01 22:13:27  \n",
       "4  87285a66236346350541b8815c5fae94    4.0 2016-01-01 17:00:06  "
      ]
     },
     "execution_count": 7,
     "metadata": {},
     "output_type": "execute_result"
    }
   ],
   "source": [
    "order_info.columns = ['order_id', 'driver_id', 'passenger_id', \\\n",
    "                      'start_district_hash', 'dest_district_hash', 'price', 'time_stamp']\n",
    "order_info.head()"
   ]
  },
  {
   "cell_type": "code",
   "execution_count": 8,
   "metadata": {
    "collapsed": true
   },
   "outputs": [],
   "source": [
    "order_id = order_info['order_id']\n",
    "driver_id = order_info['driver_id']\n",
    "passenger_id = order_info['passenger_id']\n",
    "start_district_hash = order_info['start_district_hash']\n",
    "dest_district_hash = order_info['dest_district_hash']\n",
    "price = order_info['price']\n",
    "time_stamp = order_info['time_stamp']"
   ]
  },
  {
   "cell_type": "code",
   "execution_count": 9,
   "metadata": {},
   "outputs": [
    {
     "name": "stdout",
     "output_type": "stream",
     "text": [
      "total order_id: 501287\n",
      "unique order_id: 498789\n"
     ]
    }
   ],
   "source": [
    "order_id_num = len(order_id)\n",
    "order_id_num_unique = len(order_id.unique())\n",
    "print ('total order_id:', order_id_num)\n",
    "print ('unique order_id:', order_id_num_unique)"
   ]
  },
  {
   "cell_type": "code",
   "execution_count": 69,
   "metadata": {},
   "outputs": [
    {
     "name": "stdout",
     "output_type": "stream",
     "text": [
      "total driver_id: 501287\n",
      "unique driver_id: 37661\n",
      "null driver_id: 175710\n",
      "fraction of missed orders: 0.3505177672670546\n",
      "fraction of received orders: 0.6494822327329455\n"
     ]
    }
   ],
   "source": [
    "driver_id_null = pd.isnull(driver_id)\n",
    "driver_id_num = len(driver_id)\n",
    "driver_id_num_unique = len(driver_id.unique())\n",
    "driver_id_num_null = len(driver_id[driver_id_null])\n",
    "print ('total driver_id:', driver_id_num)\n",
    "print ('unique driver_id:', driver_id_num_unique)\n",
    "print ('null driver_id:', driver_id_num_null)\n",
    "print ('fraction of missed orders:', float(driver_id_num_null) / float(driver_id_num))\n",
    "print ('fraction of received orders:', 1.0 - float(driver_id_num_null) / float(driver_id_num))"
   ]
  },
  {
   "cell_type": "markdown",
   "metadata": {},
   "source": [
    "# 2: Import training cluster_map"
   ]
  },
  {
   "cell_type": "code",
   "execution_count": 10,
   "metadata": {
    "collapsed": true
   },
   "outputs": [],
   "source": [
    "path = 'data/training_data/cluster_map/cluster_map.txt'\n",
    "cluster_map = {}"
   ]
  },
  {
   "cell_type": "code",
   "execution_count": 11,
   "metadata": {
    "collapsed": true
   },
   "outputs": [],
   "source": [
    "with open(path, 'r') as map_file:\n",
    "    for line in map_file:\n",
    "        hash_value, num = line.split()\n",
    "        cluster_map[hash_value] = int(num)"
   ]
  },
  {
   "cell_type": "code",
   "execution_count": 22,
   "metadata": {},
   "outputs": [
    {
     "name": "stdout",
     "output_type": "stream",
     "text": [
      "66 destinations in total\n",
      "<class 'dict_keys'>\n",
      "825c426141df01d38c1b9e9c5330bdac 30\n",
      "91690261186ae5bee8f83808ea1e4a01 20\n",
      "52e56004d92b8c74d53e1e42699cba6f 26\n",
      "3a43dcdff3c0b66b1acb1644ff055f9d 25\n",
      "2407d482f0ffa22a947068f2551fe62c 28\n",
      "08f5b445ec6b29deba62e6fd8b0325a6 43\n",
      "ba32abfc048219e933bee869741da911 57\n",
      "c9f855e3e13480aad0af64b418e810c3 45\n",
      "dd8d3b9665536d6e05b29c2648c0e69a 11\n",
      "c4ec24e0a58ebedaa1661e5c09e47bb5 54\n",
      "90c5a34f06ac86aee0fd70e2adce7d8a 1\n",
      "a735449c5c09df639c35a7d61fad3ee5 62\n",
      "bf44d327f0232325c6d5280926d7b37d 64\n",
      "693a21b16653871bbd455403da5412b4 39\n",
      "a5609739c6b5c2719a3752327c5e33a7 19\n",
      "87285a66236346350541b8815c5fae94 22\n",
      "b26a240205c852804ff8758628c0a86a 4\n",
      "fff4e8465d1e12621bc361276b6217cf 32\n",
      "38d5ad2d22b61109fd8e7b43cd0e8901 24\n",
      "d05052b4bda7662a084f235e880f50fa 36\n",
      "1c60154546102e6525f68cb4f31e0657 56\n",
      "4b9e4cf2fbdc8281b8a1f9f12b80ce4d 5\n",
      "364bf755f9b270f0f9141d1a61de43ee 21\n",
      "307afa4120c590b3a46cf4ff5415608a 16\n",
      "52d7b69796362a8ed1691a6cc02ddde4 33\n",
      "b05379ac3f9b7d99370d443cfd5dcc28 37\n",
      "1afd7afbc81ecc1b13886a569d869e8a 46\n",
      "de092beab9305613aca8f79d7d7224e7 61\n",
      "f2c8c4bb99e6377d21de71275afd6cd2 2\n",
      "a814069db8d32f0fa6e188f41059c6e1 17\n",
      "58c7a4888306d8ff3a641d1c0feccbe3 3\n",
      "3e12208dd0be281c92a6ab57d9a6fb32 47\n",
      "49ac89aa860c27e26c0836cb8dab2df2 60\n",
      "d4ec2125aff74eded207d2d915ef682f 51\n",
      "74ec84f1cf75cf89ae176c8c6ceec5ba 49\n",
      "2301bc920194c95cf0c7486e5675243c 31\n",
      "44c097b7bd219d104050abbafe51bd49 35\n",
      "62afaf3288e236b389af9cfdc5206415 48\n",
      "8bb37d24db1ad665e706c2655d9c4c72 34\n",
      "825a21aa308dea206adb49c4b77c7805 65\n",
      "f9280c5dab6910ed44e518248048b9fe 41\n",
      "74c1c25f4b283fa74a5514307b0d0278 12\n",
      "ca064c2682ca48c6a21de012e87c0df5 42\n",
      "f47f35242ed40655814bc086d7514046 53\n",
      "1ecbb52d73c522f184a6fc53128b1ea1 66\n",
      "82cc4851f9e4faa4e54309f8bb73fd7c 8\n",
      "52a4e8aaa12f70020e889aed8fd5ddbc 29\n",
      "7f84bdfc2b6d4541e1f6c0a3349e0251 52\n",
      "cb6041cc08444746caf6039d8b9e43cb 58\n",
      "73ff8ef735e1d68f0cdcbb84d788f2b6 40\n",
      "4b7f6f4e2bf237b6cc58f57142bea5c0 13\n",
      "b702e920dcd2765e624dc1ce3a770512 9\n",
      "445ff793ebd3477d4a2e0b36b2db9271 55\n",
      "d5cb17978de290c56e84c9cf97e63186 15\n",
      "08232402614a9b48895cc3d0aeb0e9f2 50\n",
      "2920ece99323b4c111d6f9affc7ea034 14\n",
      "fc34648599753c9e74ab238e9a4a07ad 27\n",
      "0a5fef95db34383403d11cb6af937309 63\n",
      "8316146a6f78cc6d9f113f0390859417 44\n",
      "929ec6c160e6f52c20a4217c7978f681 7\n",
      "4f4041f7db0c7f69892d9b74c1a7efa1 10\n",
      "d524868ce69cb9db10fc5af177fb9423 59\n",
      "2350be163432e42270d2670cb3c02f80 18\n",
      "1cbfbdd079ef93e74405c53fcfff8567 6\n",
      "4f8d81b5c31af5d1ba579a65ddc8a5cb 38\n",
      "4725c39a5e5f4c188d382da3910b3f3f 23\n"
     ]
    }
   ],
   "source": [
    "dests = cluster_map.keys()\n",
    "print(len(dests), 'destinations in total')\n",
    "\n",
    "for hash_value in cluster_map:\n",
    "    print(hash_value, cluster_map[hash_value])"
   ]
  },
  {
   "cell_type": "markdown",
   "metadata": {},
   "source": [
    "# 3: Track missed riders"
   ]
  },
  {
   "cell_type": "code",
   "execution_count": 14,
   "metadata": {},
   "outputs": [
    {
     "name": "stdout",
     "output_type": "stream",
     "text": [
      "0.0 % finished\n",
      "4.987163042329045 % finished\n",
      "9.97432608465809 % finished\n",
      "14.961489126987134 % finished\n",
      "19.94865216931618 % finished\n",
      "24.935815211645227 % finished\n",
      "29.922978253974268 % finished\n",
      "34.910141296303316 % finished\n",
      "39.89730433863236 % finished\n",
      "44.884467380961404 % finished\n",
      "49.871630423290455 % finished\n",
      "54.85879346561949 % finished\n",
      "59.845956507948536 % finished\n",
      "64.83311955027759 % finished\n",
      "69.82028259260663 % finished\n",
      "74.80744563493568 % finished\n",
      "79.79460867726472 % finished\n",
      "84.78177171959376 % finished\n",
      "89.76893476192281 % finished\n",
      "94.75609780425187 % finished\n",
      "99.74326084658091 % finished\n"
     ]
    }
   ],
   "source": [
    "minute_wait = 15\n",
    "minute_ignore = 60\n",
    "\n",
    "t = np.arange(60 * minute_wait)  # track the first 15 minutes after an null order\n",
    "missed_rider_being_picked_up = np.zeros(t.shape)\n",
    "\n",
    "missed_rider_timestamp = {}\n",
    "#key: missed rider's hash value\n",
    "#value: the first time_stamp of an null order\n",
    "\n",
    "real_null_rider = 0\n",
    "real_unpicked_up_rider = 0\n",
    "real_picked_up_rider = 0\n",
    "\n",
    "percent = 25000\n",
    "\n",
    "for i in range(int(order_id_num)):\n",
    "    dri_id = driver_id.iloc[i]\n",
    "    rid_id = passenger_id.iloc[i]\n",
    "    tim_stp = time_stamp.iloc[i]\n",
    "    if type(dri_id) == float and math.isnan(dri_id): # NULL rider\n",
    "        if rid_id not in missed_rider_timestamp.keys():\n",
    "            missed_rider_timestamp[rid_id] = time_stamp.iloc[i]\n",
    "            real_null_rider += 1\n",
    "        else:\n",
    "            delta_time = time_stamp.iloc[i] - missed_rider_timestamp[rid_id]\n",
    "            delta_second = int(delta_time.total_seconds())\n",
    "            if delta_second > 60*minute_ignore:\n",
    "                real_null_rider += 1\n",
    "                real_unpicked_up_rider += 1\n",
    "                missed_rider_timestamp[rid_id] = time_stamp.iloc[i]\n",
    "    elif rid_id in missed_rider_timestamp.keys(): # Not null rider\n",
    "        delta_time = time_stamp.iloc[i] - missed_rider_timestamp[rid_id]\n",
    "        delta_second = int(delta_time.total_seconds())\n",
    "        if delta_second < 60 * minute_wait and delta_second > 0:\n",
    "            missed_rider_being_picked_up[delta_second] += 1\n",
    "        else:\n",
    "            real_unpicked_up_rider += 1\n",
    "        missed_rider_timestamp.pop(rid_id, None)\n",
    "    if i % percent == 0:\n",
    "        print(i / float(order_id_num) * 100, '% finished')\n",
    "        \n",
    "real_unpicked_up_rider  += len(missed_rider_timestamp.keys())\n",
    "real_picked_up_rider = int(np.sum(missed_rider_being_picked_up))"
   ]
  },
  {
   "cell_type": "code",
   "execution_count": 15,
   "metadata": {},
   "outputs": [
    {
     "name": "stdout",
     "output_type": "stream",
     "text": [
      "total unpicked up driver: 98185\n",
      "riders get a second chance: 9245 , 0.09415898558843\n",
      "riders do not get to be picked in the end: 88940 , 0.90584101441157\n"
     ]
    }
   ],
   "source": [
    "print('total unpicked up driver:', real_null_rider)\n",
    "print('riders get a second chance:', \\\n",
    "      real_picked_up_rider, ',', real_picked_up_rider / real_null_rider)\n",
    "print('riders do not get to be picked in the end:', \\\n",
    "      real_unpicked_up_rider, ',', real_unpicked_up_rider / real_null_rider)"
   ]
  },
  {
   "cell_type": "code",
   "execution_count": 16,
   "metadata": {},
   "outputs": [
    {
     "data": {
      "image/png": "[encoded data removed]",
      "text/plain": [
       "<matplotlib.figure.Figure at 0x7f102b269b00>"
      ]
     },
     "metadata": {},
     "output_type": "display_data"
    }
   ],
   "source": [
    "plt.plot(t,missed_rider_being_picked_up)\n",
    "plt.xlabel('time / s')\n",
    "plt.ylabel('#missed riders being picked up')\n",
    "plt.show()"
   ]
  },
  {
   "cell_type": "markdown",
   "metadata": {},
   "source": [
    "# Track out-of-town riders"
   ]
  },
  {
   "cell_type": "code",
   "execution_count": 55,
   "metadata": {},
   "outputs": [
    {
     "name": "stdout",
     "output_type": "stream",
     "text": [
      "0.0 % finished\n",
      "4.987163042329045 % finished\n",
      "9.97432608465809 % finished\n",
      "14.961489126987134 % finished\n",
      "19.94865216931618 % finished\n",
      "24.935815211645227 % finished\n",
      "29.922978253974268 % finished\n",
      "34.910141296303316 % finished\n",
      "39.89730433863236 % finished\n",
      "44.884467380961404 % finished\n",
      "49.871630423290455 % finished\n",
      "54.85879346561949 % finished\n",
      "59.845956507948536 % finished\n",
      "64.83311955027759 % finished\n",
      "69.82028259260663 % finished\n",
      "74.80744563493568 % finished\n",
      "79.79460867726472 % finished\n",
      "84.78177171959376 % finished\n",
      "89.76893476192281 % finished\n",
      "94.75609780425187 % finished\n",
      "99.74326084658091 % finished\n"
     ]
    }
   ],
   "source": [
    "out_of_town_rider = 0\n",
    "\n",
    "for i in range(int(order_id_num)):\n",
    "    des_hash = dest_district_hash.iloc[i]\n",
    "    if des_hash not in cluster_map.keys():\n",
    "        out_of_town_rider += 1\n",
    "    if i % percent == 0:\n",
    "        print(i / float(order_id_num) * 100, '% finished')"
   ]
  },
  {
   "cell_type": "code",
   "execution_count": 27,
   "metadata": {},
   "outputs": [
    {
     "name": "stdout",
     "output_type": "stream",
     "text": [
      "out_of_town_rider: 93140 0.1858017463050109\n"
     ]
    }
   ],
   "source": [
    "print('out_of_town_rider:', out_of_town_rider, out_of_town_rider / order_id_num)"
   ]
  },
  {
   "cell_type": "markdown",
   "metadata": {},
   "source": [
    "# Get rid of missed drivers being picked up and out-of-town drivers"
   ]
  },
  {
   "cell_type": "code",
   "execution_count": 73,
   "metadata": {
    "collapsed": true
   },
   "outputs": [],
   "source": [
    "driver_to_clean = driver_id_null"
   ]
  },
  {
   "cell_type": "code",
   "execution_count": 74,
   "metadata": {},
   "outputs": [
    {
     "name": "stdout",
     "output_type": "stream",
     "text": [
      "0.0 % finished\n",
      "4.987163042329045 % finished\n",
      "9.97432608465809 % finished\n",
      "14.961489126987134 % finished\n",
      "19.94865216931618 % finished\n",
      "24.935815211645227 % finished\n",
      "29.922978253974268 % finished\n",
      "34.910141296303316 % finished\n",
      "39.89730433863236 % finished\n",
      "44.884467380961404 % finished\n",
      "49.871630423290455 % finished\n",
      "54.85879346561949 % finished\n",
      "59.845956507948536 % finished\n",
      "64.83311955027759 % finished\n",
      "69.82028259260663 % finished\n",
      "74.80744563493568 % finished\n",
      "79.79460867726472 % finished\n",
      "84.78177171959376 % finished\n",
      "89.76893476192281 % finished\n",
      "94.75609780425187 % finished\n",
      "99.74326084658091 % finished\n"
     ]
    }
   ],
   "source": [
    "minute_wait = 15\n",
    "minute_ignore = 60\n",
    "\n",
    "missed_rider_timestamp = {}\n",
    "#key: missed rider's hash value\n",
    "#value: the first time_stamp of an null order\n",
    "\n",
    "missed_rider_former_order = {}\n",
    "#key: missed rider's hash value\n",
    "#value: former null order's row number from the same rider\n",
    "\n",
    "real_null_rider = 0\n",
    "real_unpicked_up_rider = 0\n",
    "real_picked_up_rider = 0\n",
    "\n",
    "percent = 25000\n",
    "\n",
    "for i in range(int(order_id_num)):\n",
    "    dri_id = driver_id.iloc[i]\n",
    "    rid_id = passenger_id.iloc[i]\n",
    "    tim_stp = time_stamp.iloc[i]\n",
    "    des_hash = dest_district_hash.iloc[i]\n",
    "    if des_hash not in cluster_map.keys():\n",
    "        driver_to_clean.iloc[i] = True\n",
    "        \n",
    "    if type(dri_id) == float and math.isnan(dri_id): # NULL rider\n",
    "        if rid_id not in missed_rider_timestamp.keys():\n",
    "            missed_rider_timestamp[rid_id] = time_stamp.iloc[i]\n",
    "            real_null_rider += 1\n",
    "            missed_rider_former_order[rid_id] = i\n",
    "        else:\n",
    "            delta_time = time_stamp.iloc[i] - missed_rider_timestamp[rid_id]\n",
    "            delta_second = int(delta_time.total_seconds())\n",
    "            if delta_second > 60*minute_ignore:\n",
    "                real_null_rider += 1\n",
    "                real_unpicked_up_rider += 1\n",
    "                missed_rider_timestamp[rid_id] = time_stamp.iloc[i]\n",
    "                driver_to_clean.iloc[missed_rider_former_order[rid_id]] = False\n",
    "                missed_rider_former_order[rid_id] = i\n",
    "    elif rid_id in missed_rider_timestamp.keys(): # Not null rider\n",
    "        delta_time = time_stamp.iloc[i] - missed_rider_timestamp[rid_id]\n",
    "        delta_second = int(delta_time.total_seconds())\n",
    "        if delta_second < 60 * minute_wait and delta_second > 0:\n",
    "            missed_rider_being_picked_up[delta_second] += 1\n",
    "        else:\n",
    "            real_unpicked_up_rider += 1\n",
    "        missed_rider_timestamp.pop(rid_id, None)\n",
    "    if i % percent == 0:\n",
    "        print(i / float(order_id_num) * 100, '% finished')\n",
    "        \n",
    "real_unpicked_up_rider  += len(missed_rider_timestamp.keys())\n",
    "real_picked_up_rider = int(np.sum(missed_rider_being_picked_up))"
   ]
  },
  {
   "cell_type": "code",
   "execution_count": 77,
   "metadata": {},
   "outputs": [
    {
     "name": "stdout",
     "output_type": "stream",
     "text": [
      "total orders: 501287\n",
      "out-of-town orders: 93140\n",
      "null orders: 175710\n"
     ]
    }
   ],
   "source": [
    "print('total orders:', order_id_num)\n",
    "print('out-of-town orders:', out_of_town_rider)\n",
    "print('null orders:', driver_id_num_null)"
   ]
  },
  {
   "cell_type": "code",
   "execution_count": 78,
   "metadata": {},
   "outputs": [
    {
     "name": "stdout",
     "output_type": "stream",
     "text": [
      "real to-clean orders: 231373\n"
     ]
    }
   ],
   "source": [
    "print('real to-clean orders:', len(order_info[driver_to_clean]))"
   ]
  },
  {
   "cell_type": "code",
   "execution_count": 84,
   "metadata": {},
   "outputs": [],
   "source": [
    "order_info_cleaned = order_info[~driver_to_clean]"
   ]
  },
  {
   "cell_type": "code",
   "execution_count": 86,
   "metadata": {},
   "outputs": [
    {
     "name": "stdout",
     "output_type": "stream",
     "text": [
      "269914\n"
     ]
    }
   ],
   "source": [
    "print(len(order_info_cleaned))"
   ]
  },
  {
   "cell_type": "code",
   "execution_count": 87,
   "metadata": {},
   "outputs": [
    {
     "data": {
      "text/html": [
       "<div>\n",
       "<table border=\"1\" class=\"dataframe\">\n",
       "  <thead>\n",
       "    <tr style=\"text-align: right;\">\n",
       "      <th></th>\n",
       "      <th>order_id</th>\n",
       "      <th>driver_id</th>\n",
       "      <th>passenger_id</th>\n",
       "      <th>start_district_hash</th>\n",
       "      <th>dest_district_hash</th>\n",
       "      <th>price</th>\n",
       "      <th>time_stamp</th>\n",
       "    </tr>\n",
       "  </thead>\n",
       "  <tbody>\n",
       "    <tr>\n",
       "      <th>0</th>\n",
       "      <td>97ebd0c6680f7c0535dbfdead6e51b4b</td>\n",
       "      <td>dd65fa250fca2833a3a8c16d2cf0457c</td>\n",
       "      <td>ed180d7daf639d936f1aeae4f7fb482f</td>\n",
       "      <td>4725c39a5e5f4c188d382da3910b3f3f</td>\n",
       "      <td>3e12208dd0be281c92a6ab57d9a6fb32</td>\n",
       "      <td>24.0</td>\n",
       "      <td>2016-01-01 13:37:23</td>\n",
       "    </tr>\n",
       "    <tr>\n",
       "      <th>1</th>\n",
       "      <td>92c3ac9251cc9b5aab90b114a1e363be</td>\n",
       "      <td>c077e0297639edcb1df6189e8cda2c3d</td>\n",
       "      <td>191a180f0a262aff3267775c4fac8972</td>\n",
       "      <td>82cc4851f9e4faa4e54309f8bb73fd7c</td>\n",
       "      <td>b05379ac3f9b7d99370d443cfd5dcc28</td>\n",
       "      <td>2.0</td>\n",
       "      <td>2016-01-01 09:47:54</td>\n",
       "    </tr>\n",
       "    <tr>\n",
       "      <th>2</th>\n",
       "      <td>abeefc3e2aec952468e2fd42a1649640</td>\n",
       "      <td>86dbc1b68de435957c61b5a523854b69</td>\n",
       "      <td>7029e813bb3de8cc73a8615e2785070c</td>\n",
       "      <td>fff4e8465d1e12621bc361276b6217cf</td>\n",
       "      <td>fff4e8465d1e12621bc361276b6217cf</td>\n",
       "      <td>9.0</td>\n",
       "      <td>2016-01-01 18:24:02</td>\n",
       "    </tr>\n",
       "    <tr>\n",
       "      <th>3</th>\n",
       "      <td>cb31d0be64cda3cc66b46617bf49a05c</td>\n",
       "      <td>4fadfa6eeaa694742de036dddf02b0c4</td>\n",
       "      <td>21dc133ac68e4c07803d1c2f48988a83</td>\n",
       "      <td>4b7f6f4e2bf237b6cc58f57142bea5c0</td>\n",
       "      <td>4b7f6f4e2bf237b6cc58f57142bea5c0</td>\n",
       "      <td>11.0</td>\n",
       "      <td>2016-01-01 22:13:27</td>\n",
       "    </tr>\n",
       "    <tr>\n",
       "      <th>6</th>\n",
       "      <td>17c1c85144ab532947c7ea724fdcc945</td>\n",
       "      <td>115ac9b23f00a2e6d8a3041e23469f41</td>\n",
       "      <td>2f206d28eb6d7daa6d058304c00782de</td>\n",
       "      <td>a5609739c6b5c2719a3752327c5e33a7</td>\n",
       "      <td>a5609739c6b5c2719a3752327c5e33a7</td>\n",
       "      <td>6.0</td>\n",
       "      <td>2016-01-01 17:34:33</td>\n",
       "    </tr>\n",
       "  </tbody>\n",
       "</table>\n",
       "</div>"
      ],
      "text/plain": [
       "                           order_id                         driver_id  \\\n",
       "0  97ebd0c6680f7c0535dbfdead6e51b4b  dd65fa250fca2833a3a8c16d2cf0457c   \n",
       "1  92c3ac9251cc9b5aab90b114a1e363be  c077e0297639edcb1df6189e8cda2c3d   \n",
       "2  abeefc3e2aec952468e2fd42a1649640  86dbc1b68de435957c61b5a523854b69   \n",
       "3  cb31d0be64cda3cc66b46617bf49a05c  4fadfa6eeaa694742de036dddf02b0c4   \n",
       "6  17c1c85144ab532947c7ea724fdcc945  115ac9b23f00a2e6d8a3041e23469f41   \n",
       "\n",
       "                       passenger_id               start_district_hash  \\\n",
       "0  ed180d7daf639d936f1aeae4f7fb482f  4725c39a5e5f4c188d382da3910b3f3f   \n",
       "1  191a180f0a262aff3267775c4fac8972  82cc4851f9e4faa4e54309f8bb73fd7c   \n",
       "2  7029e813bb3de8cc73a8615e2785070c  fff4e8465d1e12621bc361276b6217cf   \n",
       "3  21dc133ac68e4c07803d1c2f48988a83  4b7f6f4e2bf237b6cc58f57142bea5c0   \n",
       "6  2f206d28eb6d7daa6d058304c00782de  a5609739c6b5c2719a3752327c5e33a7   \n",
       "\n",
       "                 dest_district_hash  price          time_stamp  \n",
       "0  3e12208dd0be281c92a6ab57d9a6fb32   24.0 2016-01-01 13:37:23  \n",
       "1  b05379ac3f9b7d99370d443cfd5dcc28    2.0 2016-01-01 09:47:54  \n",
       "2  fff4e8465d1e12621bc361276b6217cf    9.0 2016-01-01 18:24:02  \n",
       "3  4b7f6f4e2bf237b6cc58f57142bea5c0   11.0 2016-01-01 22:13:27  \n",
       "6  a5609739c6b5c2719a3752327c5e33a7    6.0 2016-01-01 17:34:33  "
      ]
     },
     "execution_count": 87,
     "metadata": {},
     "output_type": "execute_result"
    }
   ],
   "source": [
    "order_info_cleaned.head()"
   ]
  },
  {
   "cell_type": "code",
   "execution_count": 88,
   "metadata": {
    "collapsed": true
   },
   "outputs": [],
   "source": [
    "order_info_cleaned.to_csv('data/training_order_data_cleaned.csv')"
   ]
  },
  {
   "cell_type": "code",
   "execution_count": null,
   "metadata": {
    "collapsed": true
   },
   "outputs": [],
   "source": []
  }
 ],
 "metadata": {
  "kernelspec": {
   "display_name": "Python 3",
   "language": "python",
   "name": "python3"
  },
  "language_info": {
   "codemirror_mode": {
    "name": "ipython",
    "version": 3
   },
   "file_extension": ".py",
   "mimetype": "text/x-python",
   "name": "python",
   "nbconvert_exporter": "python",
   "pygments_lexer": "ipython3",
   "version": "3.5.2"
  }
 },
 "nbformat": 4,
 "nbformat_minor": 2
}
